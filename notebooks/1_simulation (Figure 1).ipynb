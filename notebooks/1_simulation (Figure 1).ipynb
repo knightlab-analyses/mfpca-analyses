{
 "cells": [
  {
   "cell_type": "markdown",
   "metadata": {},
   "source": [
    "### Figure 1 (kernel: R_3.5.3-9.3.0)"
   ]
  },
  {
   "cell_type": "code",
   "execution_count": 1,
   "metadata": {},
   "outputs": [
    {
     "name": "stderr",
     "output_type": "stream",
     "text": [
      "Loading required package: StanHeaders\n",
      "\n",
      "Loading required package: ggplot2\n",
      "\n",
      "rstan (Version 2.21.2, GitRev: 2e1f913d3ca3)\n",
      "\n",
      "For execution on a local, multicore CPU with excess RAM we recommend calling\n",
      "options(mc.cores = parallel::detectCores()).\n",
      "To avoid recompilation of unchanged Stan programs, we recommend calling\n",
      "rstan_options(auto_write = TRUE)\n",
      "\n"
     ]
    }
   ],
   "source": [
    "source('../code/mfpca_rotation_v2.R')\n",
    "source('../code/sim_settings_v2.R') # for plotting figures\n",
    "source('../code/basis_setup_sparse.R')"
   ]
  },
  {
   "cell_type": "code",
   "execution_count": 2,
   "metadata": {},
   "outputs": [],
   "source": [
    "dir = '/panfs/panfs1.ucsd.edu/panscratch/lij014/Oct_2020_mfpca/simulations'\n",
    "i = 4"
   ]
  },
  {
   "cell_type": "code",
   "execution_count": 3,
   "metadata": {},
   "outputs": [],
   "source": [
    "mfpca_output = paste0(dir, '/results_est_all/3D_est_all_R_v0_nsims', i, '.Rdata');\n",
    "dat_sim = paste0(dir, \"/sim_data/sim_dat_3B_N_100_R_corr_0_Complete_0.8.Rdata\");\n",
    "idx_sim = i; mean_lim = c(-15,15); FPC_lim = c(-5,5);\n",
    "fig_name = paste0('../figures/fig1_3D_est_all_R_v0_nsims', i, '.png');"
   ]
  },
  {
   "cell_type": "code",
   "execution_count": 4,
   "metadata": {},
   "outputs": [],
   "source": [
    "\tload(mfpca_output)\n",
    "\tload(dat_sim, dat <- new.env())\n",
    "\tpost_rotation_results = post_hoc_rotation(fit=fit, Nchains=Nchains, Nsamples=Nsamples, N=dat_new$num_subjects, \n",
    "\t\t                                      P=dat_new$num_blocks, K=dat_new$num_PCs, Q=dat_new$num_basis)"
   ]
  },
  {
   "cell_type": "code",
   "execution_count": 5,
   "metadata": {},
   "outputs": [
    {
     "name": "stderr",
     "output_type": "stream",
     "text": [
      "\n",
      "Attaching package: ‘pracma’\n",
      "\n",
      "\n",
      "The following objects are masked from ‘package:Matrix’:\n",
      "\n",
      "    expm, lu, tril, triu\n",
      "\n",
      "\n"
     ]
    }
   ],
   "source": [
    "\t#dat = dat_sim\n",
    "\ti = idx_sim\n",
    "\tY_sparse = dat$Y_SPARSE[[i]]\n",
    "\ttime_sparse = dat$TIME_SPARSE[[i]]\n",
    "\tresults_basis=basis_setup_sparse(dat$TIME_SPARSE[[i]], nknots=dat$sim_param$nknots, orth=TRUE, plotit=FALSE)\n",
    "\tphi_t_cont = results_basis[[5]]\n",
    "\tphi_t = results_basis[[3]]\n",
    "\ttime_cont = results_basis[[4]]\n",
    "\tALPHA_array = post_rotation_results$ALPHA_array\n",
    "\tMU_array = post_rotation_results$MU_array\n",
    "\tTHETA_array = post_rotation_results$THETA_array\n",
    "\tCOV_array = post_rotation_results$COV_array\n",
    "\tCOR_array = post_rotation_results$COR_array\t    \n",
    "\n",
    "\tnloop=dim(ALPHA_array)[3]\n",
    "\tfirst=1\n",
    "\tlast=nloop\n",
    "\n",
    "\tMU_mean = MU_array[, first] #mean function across sampling sessions\n",
    "\tALPHA_mean = ALPHA_array[,,first] # mean factor scores\n",
    "\tTHETA_mean = THETA_array[,,first] # mean factor loading\n",
    "\tCOV_mean = COV_array[,,first]\n",
    "\tCOR_mean = COR_array[,,first]    \n",
    "\n",
    "\tfor(iter in 2:nloop){\n",
    "\t\tMU_mean = MU_mean + MU_array[, iter]\n",
    "\t\tALPHA_mean = ALPHA_mean + ALPHA_array[,,iter]\n",
    "\t\tTHETA_mean = THETA_mean + THETA_array[,,iter]\n",
    "\t\tCOV_mean = COV_mean + COV_array[,,iter]\n",
    "\t\tCOR_mean = COR_mean + COR_array[,,iter]        \n",
    "\t}\n",
    "\n",
    "\tMU_mean=cbind(MU_mean/(last-first+1)) \n",
    "\tALPHA_mean=cbind(ALPHA_mean/(last-first+1))\n",
    "\tTHETA_mean=cbind(THETA_mean/(last-first+1)) \n",
    "\tCOV_mean=cbind(COV_mean/(last-first+1)) \n",
    "\tCOR_mean=cbind(COR_mean/(last-first+1))     \n",
    "\n",
    "\tMU_true = dat$sim_param$params[[7]]\n",
    "\tMu_true_functions=t(bdiag(cbind(phi_t_cont[[1]]),cbind(phi_t_cont[[2]]), cbind(phi_t_cont[[3]])))%*%MU_true\n",
    "\tMu_functions=t(bdiag(cbind(phi_t_cont[[1]]),cbind(phi_t_cont[[2]]), cbind(phi_t_cont[[3]])))%*%MU_mean\n",
    "\tMu1_true=Mu_true_functions[1:length(time_cont)]\n",
    "\tMu2_true=Mu_true_functions[(length(time_cont)+1):(2*length(time_cont))]\n",
    "\tMu3_true=Mu_true_functions[(2*length(time_cont)+1):(3*length(time_cont))]\n",
    "\tMu1=Mu_functions[1:length(time_cont)]\n",
    "\tMu2=Mu_functions[(length(time_cont)+1):(2*length(time_cont))]\n",
    "\tMu3=Mu_functions[(2*length(time_cont)+1):(3*length(time_cont))]\n",
    "\n",
    "\tFPC_true = dat$sim_param$params[[8]]\n",
    "\n",
    "\tK = dat$sim_param$Q\n",
    "\tQ = (dat$sim_param$nknots + 4)\n",
    "\tN = dat$sim_param$N\n",
    "\tFPC1_mean=t(phi_t_cont[[1]])%*%THETA_mean[1:Q[1],1:K[1]]\n",
    "\tFPC2_mean=t(phi_t_cont[[2]])%*%THETA_mean[(Q[1]+1):(Q[1]+Q[2]),(K[1]+1):(K[1]+K[2])]\n",
    "\tFPC3_mean=t(phi_t_cont[[3]])%*%THETA_mean[(Q[1]+Q[2]+1):sum(Q),sum(K)]\n",
    "\ttime = dat$sim_param$time"
   ]
  },
  {
   "cell_type": "code",
   "execution_count": 6,
   "metadata": {},
   "outputs": [
    {
     "data": {
      "text/html": [
       "<strong>png:</strong> 2"
      ],
      "text/latex": [
       "\\textbf{png:} 2"
      ],
      "text/markdown": [
       "**png:** 2"
      ],
      "text/plain": [
       "png \n",
       "  2 "
      ]
     },
     "metadata": {},
     "output_type": "display_data"
    }
   ],
   "source": [
    "# commented lines: colors\n",
    "# updated lines: greyscale\n",
    "\n",
    "png(fig_name, units=\"in\", width=7, height=5, res=300)\n",
    "par(mfrow=c(2,3))\n",
    "#         plot(time_cont,Mu1_true,type=\"l\",ylim=mean_lim,xlim=c(0,1),lwd=1.5,col=4, ylab='response',\n",
    "#             font.lab=2, cex.lab=1, font.axis=1, xlab='time')\n",
    "        plot(time_cont,Mu1_true,type=\"l\",ylim=mean_lim,xlim=c(0,1),lwd=1.5,col=1, ylab='response',\n",
    "            font.lab=2, cex.lab=1, font.axis=1, xlab='time')\n",
    "        for(i in 1:N){\n",
    "            lines(time_sparse[[i]][[1]],Y_sparse[[i]][[1]],type=\"l\",lwd=.1)\n",
    "        }\n",
    "        #lines(time_cont,Mu1,type=\"l\",col=2,lwd=1.5,lty=2)\n",
    "        lines(time_cont,Mu1,type=\"l\",col=1,lwd=1.5,lty=2)\n",
    "        title(main=\"Outcome for Variable 1\")\n",
    "        #legend('top', c('True mean', 'Estimated'), col=c(4,2), lty=c(1,2), lwd=c(2,2), bty='n')\n",
    "        legend('top', c('True mean', 'Estimated'), lty=c(1,2), lwd=c(2,2), bty='n')\n",
    "        fig_label('A', pos='topleft', cex=1.5)\n",
    "\n",
    "#         plot(time_cont,Mu2_true,type=\"l\",ylim=mean_lim,xlim=c(0,1),lwd=1.5,col=4, ylab='response',\n",
    "#             font.lab=2, cex.lab=1, font.axis=1, xlab='time')\n",
    "        plot(time_cont,Mu2_true,type=\"l\",ylim=mean_lim,xlim=c(0,1),lwd=1.5,col=1, ylab='response',\n",
    "            font.lab=2, cex.lab=1, font.axis=1, xlab='time')\n",
    "        for(i in 1:N){\n",
    "            lines(time_sparse[[i]][[2]],Y_sparse[[i]][[2]],type=\"l\",lwd=.1)\n",
    "        }\n",
    "#         lines(time_cont,Mu2,type=\"l\",col=2,lwd=1.5,lty=2)\n",
    "        lines(time_cont,Mu2,type=\"l\",col=1,lwd=1.5,lty=2)\n",
    "        title(main=\"Outcome for Variable 2\")\n",
    "        fig_label('B', pos='topleft', cex=1.5)\n",
    "\n",
    "#         plot(time_cont,Mu3_true,type=\"l\",ylim=mean_lim,xlim=c(0,1),lwd=1.5,col=4, ylab='response',\n",
    "#             font.lab=2, cex.lab=1, font.axis=1, xlab='time')\n",
    "        plot(time_cont,Mu3_true,type=\"l\",ylim=mean_lim,xlim=c(0,1),lwd=1.5,col=1, ylab='response',\n",
    "            font.lab=2, cex.lab=1, font.axis=1, xlab='time')\n",
    "        for(i in 1:N){\n",
    "            lines(time_sparse[[i]][[3]],Y_sparse[[i]][[3]],type=\"l\",lwd=.1)\n",
    "        }\n",
    "        #lines(time_cont,Mu3,type=\"l\",col=2,lwd=1.5,lty=2)\n",
    "        lines(time_cont,Mu3,type=\"l\",col=1,lwd=1.5,lty=2)\n",
    "        title(main=\"Outcome for Variable 3\")\n",
    "        fig_label('C', pos='topleft', cex=1.5)\n",
    "\n",
    "        plot(time,FPC_true[,1],type=\"l\",lwd=2,ylim=FPC_lim, ylab='FPC curve',\n",
    "            font.lab=2, cex.lab=1, font.axis=1)\n",
    "        lines(time,FPC_true[,2],type=\"l\",lwd=1)\n",
    "#         lines(time_cont,FPC1_mean[,1],type=\"l\",lwd=2,col=2,lty=2)\n",
    "#         lines(time_cont,FPC1_mean[,2],type=\"l\",lwd=1,col=2,lty=2)\n",
    "        lines(time_cont,FPC1_mean[,1],type=\"l\",lwd=2,col=1,lty=2)\n",
    "        lines(time_cont,FPC1_mean[,2],type=\"l\",lwd=1,col=1,lty=2)\n",
    "        title(main=\"PFCs for Variable 1\")\n",
    "#         legend('top', c('True PC', 'Estimated'), col=c(1,2), lty=c(1,2), lwd=c(2,2), bty='n')\n",
    "        legend('top', c('True PC', 'Estimated'), col=c(1,1), lty=c(1,2), lwd=c(2,2), bty='n')\n",
    "        fig_label('D', pos='topleft', cex=1.5)\n",
    "\n",
    "        plot(time,FPC_true[,3],type=\"l\",lwd=2,ylim=FPC_lim, ylab='FPC curve',\n",
    "            font.lab=2, cex.lab=1, font.axis=1)\n",
    "        lines(time,FPC_true[,4],type=\"l\",lwd=1)\n",
    "#         lines(time_cont,FPC2_mean[,1],type=\"l\",lwd=2,col=2,lty=2)\n",
    "#         lines(time_cont,FPC2_mean[,2],type=\"l\",lwd=1,col=2,lty=2)\n",
    "        lines(time_cont,FPC2_mean[,1],type=\"l\",lwd=2,col=1,lty=2)\n",
    "        lines(time_cont,FPC2_mean[,2],type=\"l\",lwd=1,col=1,lty=2)\n",
    "        title(main=\"PFCs for Variable 2\")\n",
    "        fig_label('E', pos='topleft', cex=1.5)\n",
    "\n",
    "        plot(time,FPC_true[,5],type=\"l\",lwd=2,ylim=FPC_lim, ylab='FPC curve',\n",
    "            font.lab=2, cex.lab=1, font.axis=1)\n",
    "#         lines(time_cont,FPC3_mean[,1],type=\"l\",lwd=2,col=2,lty=2)\n",
    "        lines(time_cont,FPC3_mean[,1],type=\"l\",lwd=2,col=1,lty=2)\n",
    "        title(main=\"PFCs for Variable 3\")\n",
    "        fig_label('F', pos='topleft', cex=1.5)\n",
    "dev.off()"
   ]
  },
  {
   "cell_type": "code",
   "execution_count": null,
   "metadata": {},
   "outputs": [],
   "source": []
  }
 ],
 "metadata": {
  "kernelspec": {
   "display_name": "R_3.5.3-9.3.0",
   "language": "R",
   "name": "ir353930"
  },
  "language_info": {
   "codemirror_mode": "r",
   "file_extension": ".r",
   "mimetype": "text/x-r-source",
   "name": "R",
   "pygments_lexer": "r",
   "version": "3.5.3"
  }
 },
 "nbformat": 4,
 "nbformat_minor": 2
}
