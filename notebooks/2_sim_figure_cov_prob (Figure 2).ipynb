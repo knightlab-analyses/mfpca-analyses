{
 "cells": [
  {
   "cell_type": "markdown",
   "metadata": {},
   "source": [
    "### formatting results"
   ]
  },
  {
   "cell_type": "code",
   "execution_count": 1,
   "metadata": {},
   "outputs": [],
   "source": [
    "dir = '/panfs/panfs1.ucsd.edu/panscratch/lij014/Oct_2020_mfpca/simulations'"
   ]
  },
  {
   "cell_type": "code",
   "execution_count": 2,
   "metadata": {},
   "outputs": [],
   "source": [
    "load(paste0(dir, '/cov_prob_est/cov_prob_est_all_R_v0_totalSims1000.Rdata'))"
   ]
  },
  {
   "cell_type": "code",
   "execution_count": 3,
   "metadata": {},
   "outputs": [],
   "source": [
    "load(paste0(dir, '/cov_prob_est/cov_prob_est_all_R_v0_totalSims1000.Rdata'))\n",
    "load(paste0(dir, '/cov_prob_est/cov_prob_est_all_R_v1_totalSims1000.Rdata'))\n",
    "load(paste0(dir, '/cov_prob_est/cov_prob_est_all_R_v2_totalSims1000.Rdata'))\n",
    "load(paste0(dir, '/cov_prob_est/cov_prob_est_all_R_v3_totalSims1000.Rdata'))"
   ]
  },
  {
   "cell_type": "code",
   "execution_count": 4,
   "metadata": {},
   "outputs": [
    {
     "data": {
      "text/html": [
       "1000"
      ],
      "text/latex": [
       "1000"
      ],
      "text/markdown": [
       "1000"
      ],
      "text/plain": [
       "[1] 1000"
      ]
     },
     "metadata": {},
     "output_type": "display_data"
    }
   ],
   "source": [
    "length(results_R_v0_cor$cor_median_list_weak) # check"
   ]
  },
  {
   "cell_type": "code",
   "execution_count": 5,
   "metadata": {},
   "outputs": [],
   "source": [
    "table_cov_v0 = as.data.frame(cbind(names(results_R_v0_cov$cov_coverage_95_prob_weak),\n",
    "                             unname(unlist(results_R_v0_cov$cov_coverage_95_prob_weak))))\n",
    "colnames(table_cov_v0) = c('est', 'cov_prob')\n",
    "table_cov_v0$cov_prob = round(as.numeric(as.character(table_cov_v0$cov_prob)),2)\n",
    "sub_cov_v0 = table_cov_v0[table_cov_v0$est %in% c('cov_alpha[1,1]', 'cov_alpha[1,3]', 'cov_alpha[1,4]', 'cov_alpha[1,5]',\n",
    "                                                  'cov_alpha[2,2]', 'cov_alpha[2,3]', 'cov_alpha[2,4]', 'cov_alpha[2,5]',\n",
    "                                                  'cov_alpha[3,3]', 'cov_alpha[3,5]',\n",
    "                                                  'cov_alpha[4,4]', 'cov_alpha[4,5]', 'cov_alpha[5,5]'), ]\n",
    "#sub_cov_v0"
   ]
  },
  {
   "cell_type": "code",
   "execution_count": 6,
   "metadata": {},
   "outputs": [],
   "source": [
    "table_cov_v1 = as.data.frame(cbind(names(results_R_v1_cov$cov_coverage_95_prob_weak),\n",
    "                             unname(unlist(results_R_v1_cov$cov_coverage_95_prob_weak))))\n",
    "colnames(table_cov_v1) = c('est', 'cov_prob')\n",
    "table_cov_v1$cov_prob = round(as.numeric(as.character(table_cov_v1$cov_prob)),2)\n",
    "sub_cov_v1 = table_cov_v1[table_cov_v1$est %in% c('cov_alpha[1,1]', 'cov_alpha[1,3]', 'cov_alpha[1,4]', 'cov_alpha[1,5]',\n",
    "                                                  'cov_alpha[2,2]', 'cov_alpha[2,3]', 'cov_alpha[2,4]', 'cov_alpha[2,5]',\n",
    "                                                  'cov_alpha[3,3]', 'cov_alpha[3,5]',\n",
    "                                                  'cov_alpha[4,4]', 'cov_alpha[4,5]', 'cov_alpha[5,5]'), ]\n",
    "#sub_cov_v1"
   ]
  },
  {
   "cell_type": "code",
   "execution_count": 7,
   "metadata": {},
   "outputs": [],
   "source": [
    "table_cov_v2 = as.data.frame(cbind(names(results_R_v2_cov$cov_coverage_95_prob_weak),\n",
    "                             unname(unlist(results_R_v2_cov$cov_coverage_95_prob_weak))))\n",
    "colnames(table_cov_v2) = c('est', 'cov_prob')\n",
    "table_cov_v2$cov_prob = round(as.numeric(as.character(table_cov_v2$cov_prob)),2)\n",
    "sub_cov_v2 = table_cov_v2[table_cov_v2$est %in% c('cov_alpha[1,1]', 'cov_alpha[1,3]', 'cov_alpha[1,4]', 'cov_alpha[1,5]',\n",
    "                                                  'cov_alpha[2,2]', 'cov_alpha[2,3]', 'cov_alpha[2,4]', 'cov_alpha[2,5]',\n",
    "                                                  'cov_alpha[3,3]', 'cov_alpha[3,5]',\n",
    "                                                  'cov_alpha[4,4]', 'cov_alpha[4,5]', 'cov_alpha[5,5]'), ]\n",
    "#sub_cov_v2"
   ]
  },
  {
   "cell_type": "code",
   "execution_count": 8,
   "metadata": {},
   "outputs": [],
   "source": [
    "table_cov_v3 = as.data.frame(cbind(names(results_R_v3_cov$cov_coverage_95_prob_weak),\n",
    "                             unname(unlist(results_R_v3_cov$cov_coverage_95_prob_weak))))\n",
    "colnames(table_cov_v3) = c('est', 'cov_prob')\n",
    "table_cov_v3$cov_prob = round(as.numeric(as.character(table_cov_v3$cov_prob)),2)\n",
    "sub_cov_v3 = table_cov_v3[table_cov_v3$est %in% c('cov_alpha[1,1]', 'cov_alpha[1,3]', 'cov_alpha[1,4]', 'cov_alpha[1,5]',\n",
    "                                                  'cov_alpha[2,2]', 'cov_alpha[2,3]', 'cov_alpha[2,4]', 'cov_alpha[2,5]',\n",
    "                                                  'cov_alpha[3,3]', 'cov_alpha[3,5]',\n",
    "                                                  'cov_alpha[4,4]', 'cov_alpha[4,5]', 'cov_alpha[5,5]'), ]\n",
    "#sub_cov_v3"
   ]
  },
  {
   "cell_type": "markdown",
   "metadata": {},
   "source": [
    "### visualization"
   ]
  },
  {
   "cell_type": "code",
   "execution_count": 9,
   "metadata": {},
   "outputs": [
    {
     "name": "stderr",
     "output_type": "stream",
     "text": [
      "Loading required package: ggplot2\n",
      "\n"
     ]
    }
   ],
   "source": [
    "library(ggpubr)\n",
    "library(gridExtra)"
   ]
  },
  {
   "cell_type": "code",
   "execution_count": 10,
   "metadata": {},
   "outputs": [],
   "source": [
    "R_v0 <- ggdotchart(sub_cov_v0, x = \"est\", y = \"cov_prob\",\n",
    "           #color ='#FC4E07',\n",
    "           color='grey',\n",
    "           sorting = \"ascending\",                        # Sort value in descending order\n",
    "           rotate = TRUE,   \n",
    "           dot.size = 6,                                 # Large dot size\n",
    "           label = sub_cov_v0$cov_prob,                        # Add mpg values as dot labels\n",
    "#            font.label = list(color = \"white\", size = 5.5, \n",
    "#                              vjust = 0.5),  \n",
    "           font.label = list(color = \"black\", size = 5.5, \n",
    "                             vjust = 0.5),        \n",
    "           ggtheme = theme_pubr()) +\n",
    "ggtitle(\"Covariance Matrix I\") +\n",
    "xlab(\"Estimated covrelation\") + ylab(\"Coverage probability\") +\n",
    "theme(plot.title = element_text(size=16, face=\"bold.italic\", hjust = 0.5),\n",
    "      axis.title.x = element_text(size=14, face=\"bold\"),\n",
    "      axis.title.y = element_text(size=14, face=\"bold\"))+\n",
    "#         geom_hline(yintercept = mean(sub_cov_v0$cov_prob), linetype = 2, size=1.2) + \n",
    "        geom_hline(yintercept = mean(sub_cov_v0$cov_prob), linetype = 3, size=1.2) + \n",
    "         geom_text(aes(0, mean(sub_cov_v0$cov_prob), label = round(mean(sub_cov_v0$cov_prob),2), \n",
    "                       vjust = -55)) +\n",
    "          scale_y_continuous(labels=c(0.9,0.925, 0.95, 0.975, 1.0), limits=c(0.9, 1))\n",
    "\n",
    "R_v1 <- ggdotchart(sub_cov_v1, x = \"est\", y = \"cov_prob\",\n",
    "           #color ='#E7B800',\n",
    "           color='grey',        \n",
    "           sorting = \"ascending\",                        # Sort value in descending order\n",
    "           rotate = TRUE,   \n",
    "           dot.size = 7,                                 # Large dot size\n",
    "           label = sub_cov_v1$cov_prob,                        # Add mpg values as dot labels\n",
    "#            font.label = list(color = \"white\", size = 6.5, \n",
    "#                              vjust = 0.5),  \n",
    "           font.label = list(color = \"black\", size = 6.5, \n",
    "                             vjust = 0.5),                   \n",
    "           ggtheme = theme_pubr()) +\n",
    "ggtitle(\"Covariance Matrix II\") +\n",
    "xlab(\"Estimated covrelation\") + ylab(\"Coverage probability\") +\n",
    "theme(plot.title = element_text(size=16, face=\"bold.italic\", hjust = 0.5),\n",
    "      axis.title.x = element_text(size=14, face=\"bold\"),\n",
    "      axis.title.y = element_text(size=14, face=\"bold\"))+\n",
    "#         geom_hline(yintercept = mean(sub_cov_v1$cov_prob), linetype = 2, size=1.2) + \n",
    "          geom_hline(yintercept = mean(sub_cov_v1$cov_prob), linetype = 3, size=1.2) + \n",
    "          geom_text(aes(0, mean(sub_cov_v1$cov_prob), label = round(mean(sub_cov_v1$cov_prob),2), \n",
    "                       vjust = -55)) +\n",
    "          scale_y_continuous(labels=c(0.9,0.925, 0.95, 0.975, 1.0), limits=c(0.9, 1))\n",
    "\n",
    "R_v2 <- ggdotchart(sub_cov_v2, x = \"est\", y = \"cov_prob\",\n",
    "           #color ='#00AFBB',\n",
    "           color='grey',        \n",
    "           sorting = \"ascending\",                        # Sort value in descending order\n",
    "           rotate = TRUE,   \n",
    "           dot.size = 7,                                 # Large dot size\n",
    "           label = sub_cov_v2$cov_prob,                        # Add mpg values as dot labels\n",
    "#            font.label = list(color = \"white\", size = 6.5, \n",
    "#                              vjust = 0.5),  \n",
    "           font.label = list(color = \"black\", size = 6.5, \n",
    "                             vjust = 0.5),                    \n",
    "           ggtheme = theme_pubr()) +\n",
    "ggtitle(\"Covariance Matrix III\") +\n",
    "xlab(\"Estimated covrelation\") + ylab(\"Coverage probability\") +\n",
    "theme(plot.title = element_text(size=16, face=\"bold.italic\", hjust = 0.5),\n",
    "      axis.title.x = element_text(size=14, face=\"bold\"),\n",
    "      axis.title.y = element_text(size=14, face=\"bold\")) +\n",
    "#         geom_hline(yintercept = mean(sub_cov_v2$cov_prob), linetype = 2, size=1.2) + \n",
    "         geom_hline(yintercept = mean(sub_cov_v2$cov_prob), linetype = 3, size=1.2) + \n",
    "         geom_text(aes(0, mean(sub_cov_v2$cov_prob), label = round(mean(sub_cov_v2$cov_prob),2), \n",
    "                       vjust = -55)) +\n",
    "          scale_y_continuous(labels=c(0.9,0.925, 0.95, 0.975, 1.0), limits=c(0.9, 1))\n",
    "\n",
    "R_v3 <- ggdotchart(sub_cov_v3, x = \"est\", y = \"cov_prob\",\n",
    "           #color ='#756bb1',\n",
    "           color='grey',        \n",
    "           sorting = \"ascending\",                        # Sort value in descending order\n",
    "           rotate = TRUE,   \n",
    "           dot.size = 7,                                 # Large dot size\n",
    "           label = sub_cov_v3$cov_prob,                        # Add mpg values as dot labels\n",
    "#            font.label = list(color = \"white\", size = 6.5, \n",
    "#                              vjust = 0.5), \n",
    "           font.label = list(color = \"black\", size = 6.5, \n",
    "                             vjust = 0.5),                   \n",
    "           ggtheme = theme_pubr()) +\n",
    "        ggtitle(\"Covariance Matrix IV\") +\n",
    "        xlab(\"Estimated covrelation\") + ylab(\"Coverage probability\") +\n",
    "        theme(plot.title = element_text(size=16, face=\"bold.italic\", hjust = 0.5),\n",
    "              axis.title.x = element_text(size=14, face=\"bold\"),\n",
    "              axis.title.y = element_text(size=14, face=\"bold\")) +\n",
    "#          geom_hline(yintercept = mean(sub_cov_v3$cov_prob), linetype = 2, size=1.2) + \n",
    "             geom_hline(yintercept = mean(sub_cov_v3$cov_prob), linetype = 3, size=1.2) + \n",
    "             geom_text(aes(0, mean(sub_cov_v3$cov_prob), label = round(mean(sub_cov_v3$cov_prob),2), \n",
    "                       vjust = -55)) +\n",
    "          scale_y_continuous(labels=c(0.9,0.925, 0.95, 0.975, 1.0), limits=c(0.9, 1))\n"
   ]
  },
  {
   "cell_type": "code",
   "execution_count": 11,
   "metadata": {},
   "outputs": [
    {
     "data": {
      "image/png": "[encoded data removed]",
      "text/plain": [
       "plot without title"
      ]
     },
     "metadata": {
      "image/png": {
       "height": 420,
       "width": 420
      }
     },
     "output_type": "display_data"
    }
   ],
   "source": [
    "# neither ggarrange or grid.arrange shows the line label\n",
    "cov_cov <- ggarrange(R_v0 + rremove(\"x.title\"), R_v1 + rremove(\"y.title\") + rremove(\"x.title\"), \n",
    "                     R_v2, R_v3 + rremove(\"y.title\"), \n",
    "                     labels = c(\"A\", \"B\", \"C\", \"D\"), nrow=2, ncol=2)\n",
    "cov_cov\n",
    "ggsave('../figures/fig2_sim_cov_coverage_plots.png', cov_cov, dpi=300, width=8, height=8)"
   ]
  },
  {
   "cell_type": "code",
   "execution_count": 12,
   "metadata": {},
   "outputs": [
    {
     "data": {
      "text/html": [
       "0.946153846153846"
      ],
      "text/latex": [
       "0.946153846153846"
      ],
      "text/markdown": [
       "0.946153846153846"
      ],
      "text/plain": [
       "[1] 0.9461538"
      ]
     },
     "metadata": {},
     "output_type": "display_data"
    },
    {
     "data": {
      "text/html": [
       "0.949230769230769"
      ],
      "text/latex": [
       "0.949230769230769"
      ],
      "text/markdown": [
       "0.949230769230769"
      ],
      "text/plain": [
       "[1] 0.9492308"
      ]
     },
     "metadata": {},
     "output_type": "display_data"
    },
    {
     "data": {
      "text/html": [
       "0.946923076923077"
      ],
      "text/latex": [
       "0.946923076923077"
      ],
      "text/markdown": [
       "0.946923076923077"
      ],
      "text/plain": [
       "[1] 0.9469231"
      ]
     },
     "metadata": {},
     "output_type": "display_data"
    },
    {
     "data": {
      "text/html": [
       "0.95"
      ],
      "text/latex": [
       "0.95"
      ],
      "text/markdown": [
       "0.95"
      ],
      "text/plain": [
       "[1] 0.95"
      ]
     },
     "metadata": {},
     "output_type": "display_data"
    }
   ],
   "source": [
    "mean(sub_cov_v0$cov_prob)\n",
    "mean(sub_cov_v1$cov_prob)\n",
    "mean(sub_cov_v2$cov_prob)\n",
    "mean(sub_cov_v3$cov_prob)"
   ]
  },
  {
   "cell_type": "code",
   "execution_count": null,
   "metadata": {},
   "outputs": [],
   "source": []
  }
 ],
 "metadata": {
  "kernelspec": {
   "display_name": "R_3.6.3-9.3.0",
   "language": "R",
   "name": "ir363930"
  },
  "language_info": {
   "codemirror_mode": "r",
   "file_extension": ".r",
   "mimetype": "text/x-r-source",
   "name": "R",
   "pygments_lexer": "r",
   "version": "3.6.3"
  }
 },
 "nbformat": 4,
 "nbformat_minor": 2
}
